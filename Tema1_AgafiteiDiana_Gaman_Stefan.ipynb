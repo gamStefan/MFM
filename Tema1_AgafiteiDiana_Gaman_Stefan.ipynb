{
 "cells": [
  {
   "cell_type": "markdown",
   "metadata": {},
   "source": [
    "# Tema 1"
   ]
  },
  {
   "cell_type": "markdown",
   "metadata": {},
   "source": [
    "Import libraries"
   ]
  },
  {
   "cell_type": "code",
   "execution_count": null,
   "metadata": {
    "scrolled": true
   },
   "outputs": [],
   "source": [
    "import yfinance as yf\n",
    "import numpy as np\n",
    "import matplotlib.pyplot as plt\n",
    "import seaborn as sns\n",
    "import scipy.stats as scs"
   ]
  },
  {
   "cell_type": "markdown",
   "metadata": {},
   "source": [
    "Download daily data for Apple and Tesla"
   ]
  },
  {
   "cell_type": "code",
   "execution_count": 72,
   "metadata": {
    "scrolled": true
   },
   "outputs": [],
   "source": [
    "df1 = yf.download('AAPL', \n",
    "                       start='2011-01-01', \n",
    "                       end='2022-01-01',\n",
    "                       progress=False)"
   ]
  },
  {
   "cell_type": "code",
   "execution_count": 73,
   "metadata": {
    "scrolled": true
   },
   "outputs": [],
   "source": [
    "df2 = yf.download('TSLA', \n",
    "                       start='2011-01-01', \n",
    "                       end='2022-01-01',\n",
    "                       progress=False)"
   ]
  },
  {
   "cell_type": "markdown",
   "metadata": {},
   "source": [
    "Preview data"
   ]
  },
  {
   "cell_type": "code",
   "execution_count": 74,
   "metadata": {
    "scrolled": true
   },
   "outputs": [
    {
     "data": {
      "text/html": [
       "<div>\n",
       "<style scoped>\n",
       "    .dataframe tbody tr th:only-of-type {\n",
       "        vertical-align: middle;\n",
       "    }\n",
       "\n",
       "    .dataframe tbody tr th {\n",
       "        vertical-align: top;\n",
       "    }\n",
       "\n",
       "    .dataframe thead th {\n",
       "        text-align: right;\n",
       "    }\n",
       "</style>\n",
       "<table border=\"1\" class=\"dataframe\">\n",
       "  <thead>\n",
       "    <tr style=\"text-align: right;\">\n",
       "      <th></th>\n",
       "      <th>Open</th>\n",
       "      <th>High</th>\n",
       "      <th>Low</th>\n",
       "      <th>Close</th>\n",
       "      <th>Adj Close</th>\n",
       "      <th>Volume</th>\n",
       "    </tr>\n",
       "    <tr>\n",
       "      <th>Date</th>\n",
       "      <th></th>\n",
       "      <th></th>\n",
       "      <th></th>\n",
       "      <th></th>\n",
       "      <th></th>\n",
       "      <th></th>\n",
       "    </tr>\n",
       "  </thead>\n",
       "  <tbody>\n",
       "    <tr>\n",
       "      <th>2011-01-03 00:00:00-05:00</th>\n",
       "      <td>11.630000</td>\n",
       "      <td>11.795000</td>\n",
       "      <td>11.601429</td>\n",
       "      <td>11.770357</td>\n",
       "      <td>10.049906</td>\n",
       "      <td>445138400</td>\n",
       "    </tr>\n",
       "    <tr>\n",
       "      <th>2011-01-04 00:00:00-05:00</th>\n",
       "      <td>11.872857</td>\n",
       "      <td>11.875000</td>\n",
       "      <td>11.719643</td>\n",
       "      <td>11.831786</td>\n",
       "      <td>10.102359</td>\n",
       "      <td>309080800</td>\n",
       "    </tr>\n",
       "    <tr>\n",
       "      <th>2011-01-05 00:00:00-05:00</th>\n",
       "      <td>11.769643</td>\n",
       "      <td>11.940714</td>\n",
       "      <td>11.767857</td>\n",
       "      <td>11.928571</td>\n",
       "      <td>10.184994</td>\n",
       "      <td>255519600</td>\n",
       "    </tr>\n",
       "    <tr>\n",
       "      <th>2011-01-06 00:00:00-05:00</th>\n",
       "      <td>11.954286</td>\n",
       "      <td>11.973214</td>\n",
       "      <td>11.889286</td>\n",
       "      <td>11.918929</td>\n",
       "      <td>10.176761</td>\n",
       "      <td>300428800</td>\n",
       "    </tr>\n",
       "    <tr>\n",
       "      <th>2011-01-07 00:00:00-05:00</th>\n",
       "      <td>11.928214</td>\n",
       "      <td>12.012500</td>\n",
       "      <td>11.853571</td>\n",
       "      <td>12.004286</td>\n",
       "      <td>10.249642</td>\n",
       "      <td>311931200</td>\n",
       "    </tr>\n",
       "  </tbody>\n",
       "</table>\n",
       "</div>"
      ],
      "text/plain": [
       "                                Open       High        Low      Close  \\\n",
       "Date                                                                    \n",
       "2011-01-03 00:00:00-05:00  11.630000  11.795000  11.601429  11.770357   \n",
       "2011-01-04 00:00:00-05:00  11.872857  11.875000  11.719643  11.831786   \n",
       "2011-01-05 00:00:00-05:00  11.769643  11.940714  11.767857  11.928571   \n",
       "2011-01-06 00:00:00-05:00  11.954286  11.973214  11.889286  11.918929   \n",
       "2011-01-07 00:00:00-05:00  11.928214  12.012500  11.853571  12.004286   \n",
       "\n",
       "                           Adj Close     Volume  \n",
       "Date                                             \n",
       "2011-01-03 00:00:00-05:00  10.049906  445138400  \n",
       "2011-01-04 00:00:00-05:00  10.102359  309080800  \n",
       "2011-01-05 00:00:00-05:00  10.184994  255519600  \n",
       "2011-01-06 00:00:00-05:00  10.176761  300428800  \n",
       "2011-01-07 00:00:00-05:00  10.249642  311931200  "
      ]
     },
     "execution_count": 74,
     "metadata": {},
     "output_type": "execute_result"
    }
   ],
   "source": [
    "df1.head()"
   ]
  },
  {
   "cell_type": "code",
   "execution_count": 75,
   "metadata": {
    "scrolled": true
   },
   "outputs": [
    {
     "data": {
      "text/html": [
       "<div>\n",
       "<style scoped>\n",
       "    .dataframe tbody tr th:only-of-type {\n",
       "        vertical-align: middle;\n",
       "    }\n",
       "\n",
       "    .dataframe tbody tr th {\n",
       "        vertical-align: top;\n",
       "    }\n",
       "\n",
       "    .dataframe thead th {\n",
       "        text-align: right;\n",
       "    }\n",
       "</style>\n",
       "<table border=\"1\" class=\"dataframe\">\n",
       "  <thead>\n",
       "    <tr style=\"text-align: right;\">\n",
       "      <th></th>\n",
       "      <th>Open</th>\n",
       "      <th>High</th>\n",
       "      <th>Low</th>\n",
       "      <th>Close</th>\n",
       "      <th>Adj Close</th>\n",
       "      <th>Volume</th>\n",
       "    </tr>\n",
       "    <tr>\n",
       "      <th>Date</th>\n",
       "      <th></th>\n",
       "      <th></th>\n",
       "      <th></th>\n",
       "      <th></th>\n",
       "      <th></th>\n",
       "      <th></th>\n",
       "    </tr>\n",
       "  </thead>\n",
       "  <tbody>\n",
       "    <tr>\n",
       "      <th>2011-01-03 00:00:00-05:00</th>\n",
       "      <td>1.789333</td>\n",
       "      <td>1.800000</td>\n",
       "      <td>1.726667</td>\n",
       "      <td>1.774667</td>\n",
       "      <td>1.774667</td>\n",
       "      <td>19245000</td>\n",
       "    </tr>\n",
       "    <tr>\n",
       "      <th>2011-01-04 00:00:00-05:00</th>\n",
       "      <td>1.777333</td>\n",
       "      <td>1.796667</td>\n",
       "      <td>1.734667</td>\n",
       "      <td>1.778000</td>\n",
       "      <td>1.778000</td>\n",
       "      <td>17811000</td>\n",
       "    </tr>\n",
       "    <tr>\n",
       "      <th>2011-01-05 00:00:00-05:00</th>\n",
       "      <td>1.765333</td>\n",
       "      <td>1.793333</td>\n",
       "      <td>1.746000</td>\n",
       "      <td>1.788667</td>\n",
       "      <td>1.788667</td>\n",
       "      <td>21700500</td>\n",
       "    </tr>\n",
       "    <tr>\n",
       "      <th>2011-01-06 00:00:00-05:00</th>\n",
       "      <td>1.788667</td>\n",
       "      <td>1.866667</td>\n",
       "      <td>1.787333</td>\n",
       "      <td>1.858667</td>\n",
       "      <td>1.858667</td>\n",
       "      <td>30918000</td>\n",
       "    </tr>\n",
       "    <tr>\n",
       "      <th>2011-01-07 00:00:00-05:00</th>\n",
       "      <td>1.866667</td>\n",
       "      <td>1.905333</td>\n",
       "      <td>1.860000</td>\n",
       "      <td>1.882667</td>\n",
       "      <td>1.882667</td>\n",
       "      <td>33718500</td>\n",
       "    </tr>\n",
       "  </tbody>\n",
       "</table>\n",
       "</div>"
      ],
      "text/plain": [
       "                               Open      High       Low     Close  Adj Close  \\\n",
       "Date                                                                           \n",
       "2011-01-03 00:00:00-05:00  1.789333  1.800000  1.726667  1.774667   1.774667   \n",
       "2011-01-04 00:00:00-05:00  1.777333  1.796667  1.734667  1.778000   1.778000   \n",
       "2011-01-05 00:00:00-05:00  1.765333  1.793333  1.746000  1.788667   1.788667   \n",
       "2011-01-06 00:00:00-05:00  1.788667  1.866667  1.787333  1.858667   1.858667   \n",
       "2011-01-07 00:00:00-05:00  1.866667  1.905333  1.860000  1.882667   1.882667   \n",
       "\n",
       "                             Volume  \n",
       "Date                                 \n",
       "2011-01-03 00:00:00-05:00  19245000  \n",
       "2011-01-04 00:00:00-05:00  17811000  \n",
       "2011-01-05 00:00:00-05:00  21700500  \n",
       "2011-01-06 00:00:00-05:00  30918000  \n",
       "2011-01-07 00:00:00-05:00  33718500  "
      ]
     },
     "execution_count": 75,
     "metadata": {},
     "output_type": "execute_result"
    }
   ],
   "source": [
    "df2.head()"
   ]
  },
  {
   "cell_type": "markdown",
   "metadata": {},
   "source": [
    "Keep the adjusted close prices only"
   ]
  },
  {
   "cell_type": "code",
   "execution_count": 76,
   "metadata": {
    "scrolled": true
   },
   "outputs": [],
   "source": [
    "df1 = df1.loc[:, ['Adj Close']]\n",
    "df1.rename(columns={'Adj Close':'adj_close'}, inplace=True)"
   ]
  },
  {
   "cell_type": "code",
   "execution_count": 77,
   "metadata": {
    "scrolled": true
   },
   "outputs": [],
   "source": [
    "df2 = df2.loc[:, ['Adj Close']]\n",
    "df2.rename(columns={'Adj Close':'adj_close'}, inplace=True)"
   ]
  },
  {
   "cell_type": "markdown",
   "metadata": {},
   "source": [
    "Convert adjusted close prices to simple and log returns"
   ]
  },
  {
   "cell_type": "code",
   "execution_count": 78,
   "metadata": {
    "scrolled": true
   },
   "outputs": [],
   "source": [
    "df1['simple_rtn'] = df1.adj_close.pct_change()\n",
    "df1['log_rtn'] = np.log(df1.adj_close/df1.adj_close.shift(1))\n",
    "\n",
    "df1.dropna(how = 'any', inplace = True)"
   ]
  },
  {
   "cell_type": "code",
   "execution_count": 79,
   "metadata": {
    "scrolled": true
   },
   "outputs": [],
   "source": [
    "df2['simple_rtn'] = df2.adj_close.pct_change()\n",
    "df2['log_rtn'] = np.log(df2.adj_close/df2.adj_close.shift(1))\n",
    "\n",
    "df2.dropna(how = 'any', inplace = True)"
   ]
  },
  {
   "cell_type": "markdown",
   "metadata": {},
   "source": [
    "Plot Apple and Tesla time series"
   ]
  },
  {
   "cell_type": "code",
   "execution_count": 80,
   "metadata": {
    "scrolled": false
   },
   "outputs": [
    {
     "data": {
      "text/plain": [
       "<matplotlib.legend.Legend at 0x26cddd6a400>"
      ]
     },
     "execution_count": 80,
     "metadata": {},
     "output_type": "execute_result"
    },
    {
     "data": {
      "image/png": "[encoded data removed]",
      "text/plain": [
       "<Figure size 1152x576 with 1 Axes>"
      ]
     },
     "metadata": {
      "needs_background": "light"
     },
     "output_type": "display_data"
    }
   ],
   "source": [
    "# set the plot size\n",
    "plt.figure(figsize=(16, 8))\n",
    "  \n",
    "df1['adj_close'].plot(label='Apple', color='orange')\n",
    "df2['adj_close'].plot(label='Tesla')\n",
    "  \n",
    "# adding title to the plot\n",
    "plt.title('Close Price Plot')\n",
    "  \n",
    "# adding Label to the x-axis\n",
    "plt.xlabel('Years')\n",
    "  \n",
    "# adding legend to the curve\n",
    "plt.legend()"
   ]
  },
  {
   "cell_type": "markdown",
   "metadata": {},
   "source": [
    "Apple - distribution of returns and statistics"
   ]
  },
  {
   "cell_type": "code",
   "execution_count": 81,
   "metadata": {
    "scrolled": true
   },
   "outputs": [
    {
     "data": {
      "text/plain": [
       "Text(0.5, 1.0, 'Distribution of Apple returns')"
      ]
     },
     "execution_count": 81,
     "metadata": {},
     "output_type": "execute_result"
    },
    {
     "data": {
      "image/png": "[encoded data removed]",
      "text/plain": [
       "<Figure size 432x288 with 1 Axes>"
      ]
     },
     "metadata": {
      "needs_background": "light"
     },
     "output_type": "display_data"
    }
   ],
   "source": [
    "# histogram\n",
    "fig = sns.distplot(df1.log_rtn, kde=True, norm_hist=True)                                    \n",
    "fig.set_title('Distribution of Apple returns', fontsize=16)                                                    "
   ]
  },
  {
   "cell_type": "code",
   "execution_count": 82,
   "metadata": {
    "scrolled": true
   },
   "outputs": [
    {
     "name": "stdout",
     "output_type": "stream",
     "text": [
      "---------- Descriptive Statistics Apple ----------\n",
      "Range of dates: 2011-01-04 - 2021-12-31\n",
      "Number of observations: 2768\n",
      "Mean: 0.0010\n",
      "Median: 0.0009\n",
      "Min: -0.1377\n",
      "Max: 0.1132\n",
      "Standard Deviation: 0.0178\n",
      "Skewness: -0.3403\n",
      "Kurtosis: 6.4375\n",
      "Jarque-Bera statistic: 4812.51 with p-value: 0.00\n"
     ]
    }
   ],
   "source": [
    "jb_test = scs.jarque_bera(df1.log_rtn.values)\n",
    "\n",
    "print('---------- Descriptive Statistics Apple ----------')\n",
    "print('Range of dates:', min(df1.index.date), '-', max(df1.index.date))\n",
    "print('Number of observations:', df1.shape[0])\n",
    "print(f'Mean: {df1.log_rtn.mean():.4f}')\n",
    "print(f'Median: {df1.log_rtn.median():.4f}')\n",
    "print(f'Min: {df1.log_rtn.min():.4f}')\n",
    "print(f'Max: {df1.log_rtn.max():.4f}')\n",
    "print(f'Standard Deviation: {df1.log_rtn.std():.4f}')\n",
    "print(f'Skewness: {df1.log_rtn.skew():.4f}')\n",
    "print(f'Kurtosis: {df1.log_rtn.kurtosis():.4f}') \n",
    "print(f'Jarque-Bera statistic: {jb_test[0]:.2f} with p-value: {jb_test[1]:.2f}')"
   ]
  },
  {
   "cell_type": "markdown",
   "metadata": {},
   "source": [
    "Tesla - distribution of returns and statistics"
   ]
  },
  {
   "cell_type": "code",
   "execution_count": 83,
   "metadata": {
    "scrolled": true
   },
   "outputs": [
    {
     "data": {
      "text/plain": [
       "Text(0.5, 1.0, 'Distribution of Tesla returns')"
      ]
     },
     "execution_count": 83,
     "metadata": {},
     "output_type": "execute_result"
    },
    {
     "data": {
      "image/png": "[encoded data removed]",
      "text/plain": [
       "<Figure size 432x288 with 1 Axes>"
      ]
     },
     "metadata": {
      "needs_background": "light"
     },
     "output_type": "display_data"
    }
   ],
   "source": [
    "fig = sns.distplot(df2.log_rtn, kde=True, norm_hist=True)                                    \n",
    "fig.set_title('Distribution of Tesla returns', fontsize=16)                                                    "
   ]
  },
  {
   "cell_type": "code",
   "execution_count": 84,
   "metadata": {
    "scrolled": true
   },
   "outputs": [
    {
     "name": "stdout",
     "output_type": "stream",
     "text": [
      "---------- Descriptive Statistics Tesla ----------\n",
      "Range of dates: 2011-01-04 - 2021-12-31\n",
      "Number of observations: 2768\n",
      "Mean: 0.0019\n",
      "Median: 0.0013\n",
      "Min: -0.2365\n",
      "Max: 0.2183\n",
      "Standard Deviation: 0.0346\n",
      "Skewness: 0.0382\n",
      "Kurtosis: 5.9326\n",
      "Jarque-Bera statistic: 4042.34 with p-value: 0.00\n"
     ]
    }
   ],
   "source": [
    "jb_test = scs.jarque_bera(df2.log_rtn.values)\n",
    "\n",
    "print('---------- Descriptive Statistics Tesla ----------')\n",
    "print('Range of dates:', min(df2.index.date), '-', max(df2.index.date))\n",
    "print('Number of observations:', df2.shape[0])\n",
    "print(f'Mean: {df2.log_rtn.mean():.4f}')\n",
    "print(f'Median: {df2.log_rtn.median():.4f}')\n",
    "print(f'Min: {df2.log_rtn.min():.4f}')\n",
    "print(f'Max: {df2.log_rtn.max():.4f}')\n",
    "print(f'Standard Deviation: {df2.log_rtn.std():.4f}')\n",
    "print(f'Skewness: {df2.log_rtn.skew():.4f}')\n",
    "print(f'Kurtosis: {df2.log_rtn.kurtosis():.4f}') \n",
    "print(f'Jarque-Bera statistic: {jb_test[0]:.2f} with p-value: {jb_test[1]:.2f}')"
   ]
  },
  {
   "cell_type": "code",
   "execution_count": null,
   "metadata": {
    "scrolled": true
   },
   "outputs": [],
   "source": []
  }
 ],
 "metadata": {
  "hide_input": false,
  "kernelspec": {
   "display_name": "Python 3 (ipykernel)",
   "language": "python",
   "name": "python3"
  },
  "language_info": {
   "codemirror_mode": {
    "name": "ipython",
    "version": 3
   },
   "file_extension": ".py",
   "mimetype": "text/x-python",
   "name": "python",
   "nbconvert_exporter": "python",
   "pygments_lexer": "ipython3",
   "version": "3.8.3"
  }
 },
 "nbformat": 4,
 "nbformat_minor": 4
}
